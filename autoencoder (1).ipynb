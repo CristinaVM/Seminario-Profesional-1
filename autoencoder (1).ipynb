{
  "nbformat": 4,
  "nbformat_minor": 0,
  "metadata": {
    "colab": {
      "name": "autoencoder.ipynb",
      "provenance": [],
      "collapsed_sections": []
    },
    "kernelspec": {
      "name": "python3",
      "display_name": "Python 3"
    }
  },
  "cells": [
    {
      "cell_type": "code",
      "metadata": {
        "id": "sRhsFZ9v7scS",
        "colab_type": "code",
        "colab": {}
      },
      "source": [
        "from __future__ import absolute_import, division, print_function, unicode_literals\n",
        "\n",
        "# Install TensorFlow\n",
        "try:\n",
        "  # %tensorflow_version only works in Colab.\n",
        "  %tensorflow_version 2.x\n",
        "except Exception:\n",
        "  pass\n",
        "\n",
        "import tensorflow as tf"
      ],
      "execution_count": 0,
      "outputs": []
    },
    {
      "cell_type": "code",
      "metadata": {
        "id": "7roVcpI09zk6",
        "colab_type": "code",
        "colab": {}
      },
      "source": [
        "#import sys\n",
        "#sys.path.append('/content/drive/My Drive/SP1_2020/autoencoder/')"
      ],
      "execution_count": 0,
      "outputs": []
    },
    {
      "cell_type": "code",
      "metadata": {
        "id": "KzORkJiDApa8",
        "colab_type": "code",
        "colab": {}
      },
      "source": [
        "# import the necessary packages\n",
        "from tensorflow.keras.layers import BatchNormalization\n",
        "from tensorflow.keras.layers import Conv2D\n",
        "from tensorflow.keras.layers import Conv2DTranspose\n",
        "from tensorflow.keras.layers import LeakyReLU\n",
        "from tensorflow.keras.layers import Activation\n",
        "from tensorflow.keras.layers import Flatten\n",
        "from tensorflow.keras.layers import Dense\n",
        "from tensorflow.keras.layers import Reshape\n",
        "from tensorflow.keras.layers import Input\n",
        "from tensorflow.keras.models import Model\n",
        "from tensorflow.keras import backend as K\n",
        "import numpy as np\n",
        "from google.colab.patches import cv2_imshow"
      ],
      "execution_count": 0,
      "outputs": []
    },
    {
      "cell_type": "code",
      "metadata": {
        "id": "EjFkvFd-AqcY",
        "colab_type": "code",
        "colab": {}
      },
      "source": [
        "class ConvAutoencoder:\n",
        "    @staticmethod\n",
        "    def build(width, height, depth, filters=(32, 64), latentDim=16):\n",
        "        # initialize the input shape to be \"channels last\" along with\n",
        "        # the channels dimension itself\n",
        "        # channels dimension itself\n",
        "        inputShape = (height, width, depth)\n",
        "        chanDim = -1\n",
        "\n",
        "        # define the input to the encoder\n",
        "        inputs = Input(shape=inputShape)\n",
        "        x = inputs\n",
        "\n",
        "        # loop over the number of filters\n",
        "        for f in filters:\n",
        "            # apply a CONV => RELU => BN operation\n",
        "            x = Conv2D(f, (3, 3), strides=2, padding=\"same\")(x)\n",
        "            x = LeakyReLU(alpha=0.2)(x)\n",
        "            x = BatchNormalization(axis=chanDim)(x)\n",
        "\n",
        "        # flatten the network and then construct our latent vector\n",
        "        volumeSize = K.int_shape(x)\n",
        "        print(\"volumeSize:\",volumeSize)\n",
        "        x = Flatten()(x)\n",
        "        print(\"x shape\", K.int_shape(x))\n",
        "        latent = Dense(latentDim)(x)\n",
        "\n",
        "        # build the encoder model\n",
        "        encoder = Model(inputs, latent, name=\"encoder\")\n",
        "\n",
        "        # start building the decoder model which will accept the\n",
        "        # output of the encoder as its inputs\n",
        "        latentInputs = Input(shape=(latentDim,))\n",
        "        x = Dense(np.prod(volumeSize[1:]))(latentInputs)\n",
        "        print(\"prod shape:\",np.prod(volumeSize[1:]))\n",
        "        print(\"x shape\",K.int_shape(x))\n",
        "        x = Reshape((volumeSize[1], volumeSize[2], volumeSize[3]))(x)\n",
        "        print(\"x shape\",K.int_shape(x))\n",
        "        # loop over our number of filters again, but this time in\n",
        "        # reverse order\n",
        "        for f in filters[::-1]:\n",
        "            # apply a CONV_TRANSPOSE => RELU => BN operation\n",
        "            x = Conv2DTranspose(f, (3, 3), strides=2,\n",
        "                padding=\"same\")(x)\n",
        "            x = LeakyReLU(alpha=0.2)(x)\n",
        "            x = BatchNormalization(axis=chanDim)(x)\n",
        "\n",
        "        # apply a single CONV_TRANSPOSE layer used to recover the\n",
        "        # original depth of the image\n",
        "        x = Conv2DTranspose(depth, (3, 3), padding=\"same\")(x)\n",
        "        outputs = Activation(\"sigmoid\")(x)\n",
        "\n",
        "        # build the decoder model\n",
        "        decoder = Model(latentInputs, outputs, name=\"decoder\")\n",
        "\n",
        "        # our autoencoder is the encoder + decoder\n",
        "        autoencoder = Model(inputs, decoder(encoder(inputs)),\n",
        "            name=\"autoencoder\")\n",
        "\n",
        "        # return a 3-tuple of the encoder, decoder, and autoencoder\n",
        "        return (encoder, decoder, autoencoder)"
      ],
      "execution_count": 0,
      "outputs": []
    },
    {
      "cell_type": "code",
      "metadata": {
        "id": "89D2AFBp9HIZ",
        "colab_type": "code",
        "colab": {}
      },
      "source": [
        "# set the matplotlib backend so figures can be saved in the background\n",
        "import matplotlib\n",
        "matplotlib.use(\"Agg\")\n",
        "\n",
        "# import the necessary packages\n",
        "#from pyimagesearch.convautoencoder import ConvAutoencoder\n",
        "from tensorflow.keras.optimizers import Adam\n",
        "from tensorflow.keras.datasets import mnist\n",
        "from sklearn.model_selection import train_test_split\n",
        "import matplotlib.pyplot as plt\n",
        "import numpy as np\n",
        "import random\n",
        "import pickle\n",
        "import cv2\n",
        "import tensorflow as tf\n",
        "from tensorflow import keras\n",
        "fashion_mnist = keras.datasets.fashion_mnist"
      ],
      "execution_count": 0,
      "outputs": []
    },
    {
      "cell_type": "code",
      "metadata": {
        "id": "AKpO3AW6-ELO",
        "colab_type": "code",
        "colab": {}
      },
      "source": [
        "def build_unsupervised_dataset(data, labels, validLabel=1,\n",
        "    anomalyLabel=3, contam=0.01, seed=42):\n",
        "    # grab all indexes of the supplied class label that are *truly*\n",
        "    # that particular label, then grab the indexes of the image\n",
        "    # labels that will serve as our \"anomalies\"\n",
        "    validIdxs = np.where(labels == validLabel)[0]\n",
        "    anomalyIdxs = np.where(labels == anomalyLabel)[0]\n",
        "\n",
        "    # randomly shuffle both sets of indexes\n",
        "    random.shuffle(validIdxs)\n",
        "    random.shuffle(anomalyIdxs)\n",
        "\n",
        "    # compute the total number of anomaly data points to select\n",
        "    i = int(len(validIdxs) * contam)\n",
        "    anomalyIdxs = anomalyIdxs[:i]\n",
        "\n",
        "    # use NumPy array indexing to extract both the valid images and\n",
        "    # \"anomlay\" images\n",
        "    validImages = data[validIdxs]\n",
        "    anomalyImages = data[anomalyIdxs]\n",
        "\n",
        "    # stack the valid images and anomaly images together to form a\n",
        "    # single data matrix and then shuffle the rows\n",
        "    images = np.vstack([validImages, anomalyImages])\n",
        "    np.random.seed(seed)\n",
        "    np.random.shuffle(images)\n",
        "\n",
        "    # return the set of images\n",
        "    return images"
      ],
      "execution_count": 0,
      "outputs": []
    },
    {
      "cell_type": "code",
      "metadata": {
        "id": "bUWYKH3R-HUo",
        "colab_type": "code",
        "colab": {}
      },
      "source": [
        "def visualize_predictions(decoded, gt, samples=10):\n",
        "    # initialize our list of output images\n",
        "    outputs = None\n",
        "\n",
        "    # loop over our number of output samples\n",
        "    for i in range(0, samples):\n",
        "        # grab the original image and reconstructed image\n",
        "        original = (gt[i] * 255).astype(\"uint8\")\n",
        "        recon = (decoded[i] * 255).astype(\"uint8\")\n",
        "\n",
        "        # stack the original and reconstructed image side-by-side\n",
        "        output = np.hstack([original, recon])\n",
        "\n",
        "        # if the outputs array is empty, initialize it as the current\n",
        "        # side-by-side image display\n",
        "        if outputs is None:\n",
        "            outputs = output\n",
        "\n",
        "        # otherwise, vertically stack the outputs\n",
        "        else:\n",
        "            outputs = np.vstack([outputs, output])\n",
        "\n",
        "    # return the output images\n",
        "    return outputs"
      ],
      "execution_count": 0,
      "outputs": []
    },
    {
      "cell_type": "code",
      "metadata": {
        "id": "3aQ6Re9c-Y5d",
        "colab_type": "code",
        "outputId": "7f8a51c5-b5cb-48f8-ab47-4853e67a2c8b",
        "colab": {
          "base_uri": "https://localhost:8080/",
          "height": 1000
        }
      },
      "source": [
        "# initialize the number of epochs to train for, initial learning rate,\n",
        "# and batch size\n",
        "EPOCHS = 20\n",
        "INIT_LR = 1e-3\n",
        "BS = 32\n",
        "\n",
        "# load the MNIST dataset\n",
        "print(\"[INFO] loading MNIST dataset...\")\n",
        "((trainX, trainY), (testX, testY)) = fashion_mnist.load_data()\n",
        "\n",
        "# build our unsupervised dataset of images with a small amount of\n",
        "# contamination (i.e., anomalies) added into it\n",
        "print(\"[INFO] creating unsupervised dataset...\")\n",
        "images = build_unsupervised_dataset(trainX, trainY, validLabel=1,\n",
        "    anomalyLabel=3, contam=0.01)\n",
        "\n",
        "# add a channel dimension to every image in the dataset, then scale\n",
        "# the pixel intensities to the range [0, 1]\n",
        "images = np.expand_dims(images, axis=-1)\n",
        "images = images.astype(\"float32\") / 255.0\n",
        "\n",
        "# construct the training and testing split\n",
        "(trainX, testX) = train_test_split(images, test_size=0.2,\n",
        "    random_state=42)\n",
        "\n",
        "# construct our convolutional autoencoder\n",
        "print(\"[INFO] building autoencoder...\")\n",
        "(encoder, decoder, autoencoder) = ConvAutoencoder.build(28, 28, 1)\n",
        "opt = Adam(lr=INIT_LR, decay=INIT_LR / EPOCHS)\n",
        "autoencoder.compile(loss=\"mse\", optimizer=opt)\n",
        "\n",
        "# train the convolutional autoencoder\n",
        "H = autoencoder.fit(\n",
        "    trainX, trainX,\n",
        "    validation_data=(testX, testX),\n",
        "    epochs=EPOCHS,\n",
        "    batch_size=BS)"
      ],
      "execution_count": 16,
      "outputs": [
        {
          "output_type": "stream",
          "text": [
            "[INFO] loading MNIST dataset...\n",
            "Downloading data from https://storage.googleapis.com/tensorflow/tf-keras-datasets/train-labels-idx1-ubyte.gz\n",
            "32768/29515 [=================================] - 0s 0us/step\n",
            "Downloading data from https://storage.googleapis.com/tensorflow/tf-keras-datasets/train-images-idx3-ubyte.gz\n",
            "26427392/26421880 [==============================] - 0s 0us/step\n",
            "Downloading data from https://storage.googleapis.com/tensorflow/tf-keras-datasets/t10k-labels-idx1-ubyte.gz\n",
            "8192/5148 [===============================================] - 0s 0us/step\n",
            "Downloading data from https://storage.googleapis.com/tensorflow/tf-keras-datasets/t10k-images-idx3-ubyte.gz\n",
            "4423680/4422102 [==============================] - 0s 0us/step\n",
            "[INFO] creating unsupervised dataset...\n",
            "[INFO] building autoencoder...\n",
            "volumeSize: (None, 7, 7, 64)\n",
            "x shape (None, 3136)\n",
            "prod shape: 3136\n",
            "x shape (None, 3136)\n",
            "x shape (None, 7, 7, 64)\n",
            "Train on 4848 samples, validate on 1212 samples\n",
            "Epoch 1/20\n",
            "4848/4848 [==============================] - 13s 3ms/sample - loss: 0.0300 - val_loss: 0.1190\n",
            "Epoch 2/20\n",
            "4848/4848 [==============================] - 11s 2ms/sample - loss: 0.0103 - val_loss: 0.0751\n",
            "Epoch 3/20\n",
            "4848/4848 [==============================] - 11s 2ms/sample - loss: 0.0065 - val_loss: 0.0273\n",
            "Epoch 4/20\n",
            "4848/4848 [==============================] - 11s 2ms/sample - loss: 0.0054 - val_loss: 0.0072\n",
            "Epoch 5/20\n",
            "4848/4848 [==============================] - 11s 2ms/sample - loss: 0.0049 - val_loss: 0.0048\n",
            "Epoch 6/20\n",
            "4848/4848 [==============================] - 11s 2ms/sample - loss: 0.0044 - val_loss: 0.0048\n",
            "Epoch 7/20\n",
            "4848/4848 [==============================] - 11s 2ms/sample - loss: 0.0043 - val_loss: 0.0044\n",
            "Epoch 8/20\n",
            "4848/4848 [==============================] - 11s 2ms/sample - loss: 0.0041 - val_loss: 0.0045\n",
            "Epoch 9/20\n",
            "4848/4848 [==============================] - 11s 2ms/sample - loss: 0.0041 - val_loss: 0.0049\n",
            "Epoch 10/20\n",
            "4848/4848 [==============================] - 11s 2ms/sample - loss: 0.0040 - val_loss: 0.0044\n",
            "Epoch 11/20\n",
            "4848/4848 [==============================] - 11s 2ms/sample - loss: 0.0038 - val_loss: 0.0038\n",
            "Epoch 12/20\n",
            "4848/4848 [==============================] - 11s 2ms/sample - loss: 0.0037 - val_loss: 0.0040\n",
            "Epoch 13/20\n",
            "4848/4848 [==============================] - 11s 2ms/sample - loss: 0.0035 - val_loss: 0.0038\n",
            "Epoch 14/20\n",
            "4848/4848 [==============================] - 11s 2ms/sample - loss: 0.0035 - val_loss: 0.0037\n",
            "Epoch 15/20\n",
            "4848/4848 [==============================] - 11s 2ms/sample - loss: 0.0034 - val_loss: 0.0037\n",
            "Epoch 16/20\n",
            "4848/4848 [==============================] - 11s 2ms/sample - loss: 0.0034 - val_loss: 0.0036\n",
            "Epoch 17/20\n",
            "4848/4848 [==============================] - 11s 2ms/sample - loss: 0.0034 - val_loss: 0.0036\n",
            "Epoch 18/20\n",
            "4848/4848 [==============================] - 11s 2ms/sample - loss: 0.0033 - val_loss: 0.0038\n",
            "Epoch 19/20\n",
            "4848/4848 [==============================] - 11s 2ms/sample - loss: 0.0032 - val_loss: 0.0036\n",
            "Epoch 20/20\n",
            "4848/4848 [==============================] - 11s 2ms/sample - loss: 0.0031 - val_loss: 0.0037\n"
          ],
          "name": "stdout"
        }
      ]
    },
    {
      "cell_type": "code",
      "metadata": {
        "id": "7J3UcWAf-yIx",
        "colab_type": "code",
        "outputId": "60f2341c-2b47-4445-f613-8d9ff406cd4c",
        "colab": {
          "base_uri": "https://localhost:8080/",
          "height": 54
        }
      },
      "source": [
        "# use the convolutional autoencoder to make predictions on the\n",
        "# testing images, construct the visualization, and then save it\n",
        "# to disk\n",
        "print(\"[INFO] making predictions...\")\n",
        "decoded = autoencoder.predict(testX)\n",
        "vis = visualize_predictions(decoded, testX)\n",
        "cv2.imwrite(\"/content/drive/My Drive/sp1/vis.png\", vis)"
      ],
      "execution_count": 28,
      "outputs": [
        {
          "output_type": "stream",
          "text": [
            "[INFO] making predictions...\n"
          ],
          "name": "stdout"
        },
        {
          "output_type": "execute_result",
          "data": {
            "text/plain": [
              "False"
            ]
          },
          "metadata": {
            "tags": []
          },
          "execution_count": 28
        }
      ]
    },
    {
      "cell_type": "code",
      "metadata": {
        "id": "F2L6JeLgJKme",
        "colab_type": "code",
        "outputId": "341e8a70-abb2-4713-edd8-d541250f42f9",
        "colab": {
          "base_uri": "https://localhost:8080/",
          "height": 244
        }
      },
      "source": [
        "path = r'C:\\Users\\gatit\\Desktop\\vis.png'\n",
        "image = cv2.imread(path) \n",
        "window_name = 'image'\n",
        "cv2_imshow( image)\n",
        "\n",
        "#img = cv2.imread('/content/drive/My Drive/sp1/vis.png', cv2.IMREAD_UNCHANGED)\n",
        "#cv2_imshow(img)\n",
        "#no logre quitar el error :(((("
      ],
      "execution_count": 35,
      "outputs": [
        {
          "output_type": "error",
          "ename": "TypeError",
          "evalue": "ignored",
          "traceback": [
            "\u001b[0;31m---------------------------------------------------------------------------\u001b[0m",
            "\u001b[0;31mTypeError\u001b[0m                                 Traceback (most recent call last)",
            "\u001b[0;32m<ipython-input-35-d22dff3c8cdb>\u001b[0m in \u001b[0;36m<module>\u001b[0;34m()\u001b[0m\n\u001b[1;32m      1\u001b[0m \u001b[0mpath\u001b[0m \u001b[0;34m=\u001b[0m \u001b[0;34mr'C:\\Users\\gatit\\Desktop\\vis.png'\u001b[0m\u001b[0;34m\u001b[0m\u001b[0;34m\u001b[0m\u001b[0m\n\u001b[0;32m----> 2\u001b[0;31m \u001b[0mimage\u001b[0m \u001b[0;34m=\u001b[0m \u001b[0mcv2\u001b[0m\u001b[0;34m.\u001b[0m\u001b[0mimread\u001b[0m\u001b[0;34m(\u001b[0m\u001b[0mpath\u001b[0m\u001b[0;34m)\u001b[0m \u001b[0;34m/\u001b[0m\u001b[0;36m255\u001b[0m\u001b[0;34m\u001b[0m\u001b[0;34m\u001b[0m\u001b[0m\n\u001b[0m\u001b[1;32m      3\u001b[0m \u001b[0mwindow_name\u001b[0m \u001b[0;34m=\u001b[0m \u001b[0;34m'image'\u001b[0m\u001b[0;34m\u001b[0m\u001b[0;34m\u001b[0m\u001b[0m\n\u001b[1;32m      4\u001b[0m \u001b[0mcv2_imshow\u001b[0m\u001b[0;34m(\u001b[0m \u001b[0mimage\u001b[0m\u001b[0;34m)\u001b[0m\u001b[0;34m\u001b[0m\u001b[0;34m\u001b[0m\u001b[0m\n\u001b[1;32m      5\u001b[0m \u001b[0;34m\u001b[0m\u001b[0m\n",
            "\u001b[0;31mTypeError\u001b[0m: unsupported operand type(s) for /: 'NoneType' and 'int'"
          ]
        }
      ]
    },
    {
      "cell_type": "code",
      "metadata": {
        "id": "iKecfCn0_b2q",
        "colab_type": "code",
        "colab": {
          "base_uri": "https://localhost:8080/",
          "height": 35
        },
        "outputId": "06129024-b59e-424e-ef8d-48a1165ab3ec"
      },
      "source": [
        "# construct a plot that plots and saves the training history\n",
        "N = np.arange(0, EPOCHS)\n",
        "plt.style.use(\"ggplot\")\n",
        "plt.figure()\n",
        "plt.plot(N, H.history[\"loss\"], label=\"train_loss\")\n",
        "plt.plot(N, H.history[\"val_loss\"], label=\"val_loss\")\n",
        "plt.title(\"Training Loss\")\n",
        "plt.xlabel(\"Epoch #\")\n",
        "plt.ylabel(\"Loss\")\n",
        "plt.legend(loc=\"lower left\")\n",
        "#plt.savefig(\"/content/drive/My Drive/SP1_2020/autoencoder/plot.png\")"
      ],
      "execution_count": 23,
      "outputs": [
        {
          "output_type": "execute_result",
          "data": {
            "text/plain": [
              "<matplotlib.legend.Legend at 0x7f294b45e128>"
            ]
          },
          "metadata": {
            "tags": []
          },
          "execution_count": 23
        }
      ]
    },
    {
      "cell_type": "code",
      "metadata": {
        "id": "2MHFtvBiH9Co",
        "colab_type": "code",
        "colab": {}
      },
      "source": [
        "img = cv2.imread('/content/drive/My Drive/SP1_2020/autoencoder/plot.png', cv2.IMREAD_UNCHANGED)\n",
        "#cv2_imshow(img)"
      ],
      "execution_count": 0,
      "outputs": []
    },
    {
      "cell_type": "code",
      "metadata": {
        "id": "9q7QfK9z71Jr",
        "colab_type": "code",
        "outputId": "f0621c7e-7339-411f-9b24-e77c6e35dc6b",
        "colab": {
          "base_uri": "https://localhost:8080/",
          "height": 262
        }
      },
      "source": [
        "# serialize the image data to disk\n",
        "print(\"[INFO] saving image data...\")\n",
        "f = open(\"/content/drive/My Drive/SP1_2020/autoencoder/output/images.pickle\", \"wb\")\n",
        "f.write(pickle.dumps(images))\n",
        "f.close()\n",
        "\n",
        "# serialize the autoencoder model to disk\n",
        "print(\"[INFO] saving autoencoder...\")\n",
        "autoencoder.save(\"/content/drive/My Drive/SP1_2020/autoencoder/output/autoencoder.model\", save_format=\"h5\")"
      ],
      "execution_count": 26,
      "outputs": [
        {
          "output_type": "stream",
          "text": [
            "[INFO] saving image data...\n"
          ],
          "name": "stdout"
        },
        {
          "output_type": "error",
          "ename": "FileNotFoundError",
          "evalue": "ignored",
          "traceback": [
            "\u001b[0;31m---------------------------------------------------------------------------\u001b[0m",
            "\u001b[0;31mFileNotFoundError\u001b[0m                         Traceback (most recent call last)",
            "\u001b[0;32m<ipython-input-26-3c78d1f9031a>\u001b[0m in \u001b[0;36m<module>\u001b[0;34m()\u001b[0m\n\u001b[1;32m      1\u001b[0m \u001b[0mprint\u001b[0m\u001b[0;34m(\u001b[0m\u001b[0;34m\"[INFO] saving image data...\"\u001b[0m\u001b[0;34m)\u001b[0m\u001b[0;34m\u001b[0m\u001b[0;34m\u001b[0m\u001b[0m\n\u001b[0;32m----> 2\u001b[0;31m \u001b[0mf\u001b[0m \u001b[0;34m=\u001b[0m \u001b[0mopen\u001b[0m\u001b[0;34m(\u001b[0m\u001b[0;34m\"/content/drive/My Drive/SP1_2020/autoencoder/output/images.pickle\"\u001b[0m\u001b[0;34m,\u001b[0m \u001b[0;34m\"wb\"\u001b[0m\u001b[0;34m)\u001b[0m\u001b[0;34m\u001b[0m\u001b[0;34m\u001b[0m\u001b[0m\n\u001b[0m\u001b[1;32m      3\u001b[0m \u001b[0mf\u001b[0m\u001b[0;34m.\u001b[0m\u001b[0mwrite\u001b[0m\u001b[0;34m(\u001b[0m\u001b[0mpickle\u001b[0m\u001b[0;34m.\u001b[0m\u001b[0mdumps\u001b[0m\u001b[0;34m(\u001b[0m\u001b[0mimages\u001b[0m\u001b[0;34m)\u001b[0m\u001b[0;34m)\u001b[0m\u001b[0;34m\u001b[0m\u001b[0;34m\u001b[0m\u001b[0m\n\u001b[1;32m      4\u001b[0m \u001b[0mf\u001b[0m\u001b[0;34m.\u001b[0m\u001b[0mclose\u001b[0m\u001b[0;34m(\u001b[0m\u001b[0;34m)\u001b[0m\u001b[0;34m\u001b[0m\u001b[0;34m\u001b[0m\u001b[0m\n\u001b[1;32m      5\u001b[0m \u001b[0;34m\u001b[0m\u001b[0m\n",
            "\u001b[0;31mFileNotFoundError\u001b[0m: [Errno 2] No such file or directory: '/content/drive/My Drive/SP1_2020/autoencoder/output/images.pickle'"
          ]
        }
      ]
    },
    {
      "cell_type": "markdown",
      "metadata": {
        "id": "EEdXVLGIGNge",
        "colab_type": "text"
      },
      "source": [
        "##**FIND ANOMALIES**"
      ]
    },
    {
      "cell_type": "code",
      "metadata": {
        "id": "xTVIyGlmG4TC",
        "colab_type": "code",
        "outputId": "44cb13e4-3dd9-4940-aaa9-4cf002f13908",
        "colab": {
          "base_uri": "https://localhost:8080/",
          "height": 34
        }
      },
      "source": [
        "# import the necessary packages\n",
        "from tensorflow.keras.models import load_model\n",
        "import numpy as np\n",
        "#import argparse\n",
        "import pickle\n",
        "import cv2\n",
        "\n",
        "# load the model and image data from disk\n",
        "print(\"[INFO] loading autoencoder and image data...\")\n",
        "autoencoder = load_model(\"/content/drive/My Drive/SP1_2020/autoencoder/output/autoencoder.model\")\n",
        "images = pickle.loads(open(\"/content/drive/My Drive/SP1_2020/autoencoder/output/images.pickle\", \"rb\").read())"
      ],
      "execution_count": 0,
      "outputs": [
        {
          "output_type": "stream",
          "text": [
            "[INFO] loading autoencoder and image data...\n"
          ],
          "name": "stdout"
        }
      ]
    },
    {
      "cell_type": "code",
      "metadata": {
        "id": "8P60sfSsG8XJ",
        "colab_type": "code",
        "colab": {}
      },
      "source": [
        "# make predictions on our image data and initialize our list of\n",
        "# reconstruction errors\n",
        "decoded = autoencoder.predict(images)\n",
        "errors = []\n",
        "\n",
        "# loop over all original images and their corresponding\n",
        "# reconstructions\n",
        "for (image, recon) in zip(images, decoded):\n",
        "    # compute the mean squared error between the ground-truth image\n",
        "    # and the reconstructed image, then add it to our list of errors\n",
        "    mse = np.mean((image - recon) ** 2)\n",
        "    errors.append(mse)"
      ],
      "execution_count": 0,
      "outputs": []
    },
    {
      "cell_type": "code",
      "metadata": {
        "id": "dBCWx8G2HBtx",
        "colab_type": "code",
        "outputId": "657ac43c-b856-45ed-80d6-e8096e257d4d",
        "colab": {
          "base_uri": "https://localhost:8080/",
          "height": 51
        }
      },
      "source": [
        "# compute the q-th quantile of the errors which serves as our\n",
        "# threshold to identify anomalies -- any data point that our model\n",
        "# reconstructed with > threshold error will be marked as an outlier\n",
        "thresh = np.quantile(errors, 0.999)\n",
        "idxs = np.where(np.array(errors) >= thresh)[0]\n",
        "print(\"[INFO] mse threshold: {}\".format(thresh))\n",
        "print(\"[INFO] {} outliers found\".format(len(idxs)))\n",
        "\n",
        "# initialize the outputs array\n",
        "outputs = None"
      ],
      "execution_count": 0,
      "outputs": [
        {
          "output_type": "stream",
          "text": [
            "[INFO] mse threshold: 0.02785010100901129\n",
            "[INFO] 7 outliers found\n"
          ],
          "name": "stdout"
        }
      ]
    },
    {
      "cell_type": "code",
      "metadata": {
        "id": "h4USdkEm6-Bg",
        "colab_type": "code",
        "colab": {}
      },
      "source": [
        "# loop over the indexes of images with a high mean squared error term\n",
        "for i in idxs:\n",
        "    # grab the original image and reconstructed image\n",
        "    original = (images[i] * 255).astype(\"uint8\")\n",
        "    recon = (decoded[i] * 255).astype(\"uint8\")\n",
        "\n",
        "    # stack the original and reconstructed image side-by-side\n",
        "    output = np.hstack([original, recon])\n",
        "\n",
        "    # if the outputs array is empty, initialize it as the current\n",
        "    # side-by-side image display\n",
        "    if outputs is None:\n",
        "        outputs = output\n",
        "\n",
        "    # otherwise, vertically stack the outputs\n",
        "    else:\n",
        "        outputs = np.vstack([outputs, output])\n",
        "\n"
      ],
      "execution_count": 0,
      "outputs": []
    },
    {
      "cell_type": "code",
      "metadata": {
        "id": "t1Owd5B7HtzO",
        "colab_type": "code",
        "outputId": "c4f5657d-cd8b-4bef-8f8c-54cf98f85f9d",
        "colab": {
          "base_uri": "https://localhost:8080/",
          "height": 213
        }
      },
      "source": [
        "# show the output visualization\n",
        "cv2_imshow(outputs)"
      ],
      "execution_count": 0,
      "outputs": [
        {
          "output_type": "display_data",
          "data": {
            "image/png": "[encoded data removed]",
            "text/plain": [
              "<PIL.Image.Image image mode=RGB size=56x196 at 0x7F95CE0BCB38>"
            ]
          },
          "metadata": {
            "tags": []
          }
        }
      ]
    }
  ]
}