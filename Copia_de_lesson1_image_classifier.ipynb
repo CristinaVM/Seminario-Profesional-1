{
  "nbformat": 4,
  "nbformat_minor": 0,
  "metadata": {
    "colab": {
      "name": "Copia de lesson1-image-classifier.ipynb",
      "provenance": [],
      "collapsed_sections": [],
      "machine_shape": "hm"
    },
    "kernelspec": {
      "name": "python3",
      "display_name": "Python 3"
    }
  },
  "cells": [
    {
      "cell_type": "markdown",
      "metadata": {
        "id": "TbG9km9sm36l",
        "colab_type": "text"
      },
      "source": [
        "# Imports"
      ]
    },
    {
      "cell_type": "code",
      "metadata": {
        "id": "dMjrOqHIdn2L",
        "colab_type": "code",
        "colab": {}
      },
      "source": [
        "%tensorflow_version 2.x\n",
        "\n",
        "\n",
        "import tensorflow as tf\n",
        "from tensorflow.keras.datasets import cifar10\n",
        "from tensorflow.keras.models import Sequential\n",
        "from tensorflow.keras.layers import Dense, Flatten\n",
        "from tensorflow import keras\n",
        "\n",
        "import numpy as np\n",
        "import PIL.Image as Image\n",
        "import matplotlib.pylab as plt\n",
        "\n",
        "\n",
        "#dark mode\n",
        "plt.rc_context({'xtick.color':'w', 'ytick.color':'w', 'text.color':'w', 'axes.labelcolor':'w'})\n",
        "\n",
        "seed=1234\n",
        "np.random.seed(seed)\n",
        "tf.random.set_seed(seed)"
      ],
      "execution_count": 0,
      "outputs": []
    },
    {
      "cell_type": "markdown",
      "metadata": {
        "id": "YDFTdrpJhgeT",
        "colab_type": "text"
      },
      "source": [
        "# Working with a dataset"
      ]
    },
    {
      "cell_type": "markdown",
      "metadata": {
        "id": "MPaFf11CMQwT",
        "colab_type": "text"
      },
      "source": [
        "##Load and explore the dataset"
      ]
    },
    {
      "cell_type": "code",
      "metadata": {
        "id": "PIfFLq3Hd8rb",
        "colab_type": "code",
        "colab": {}
      },
      "source": [
        "fashion_mnist = keras.datasets.fashion_mnist\n",
        "(train_images, train_labels), (test_images, test_labels) = fashion_mnist.load_data()\n",
        "#importamos y cargamos el set de datos de MINST \n",
        "#(train_images, train_labels), (test_images, test_labels) = cifar10.load_data()"
      ],
      "execution_count": 0,
      "outputs": []
    },
    {
      "cell_type": "code",
      "metadata": {
        "id": "5H9hLXvOedVi",
        "colab_type": "code",
        "outputId": "e4b17178-4a07-43c4-c8fc-8528c6952d3a",
        "colab": {
          "base_uri": "https://localhost:8080/",
          "height": 68
        }
      },
      "source": [
        "print('train_images shape:', train_images.shape)\n",
        "print(train_images.shape[0], 'train samples')\n",
        "print(test_images.shape[0], 'test samples')"
      ],
      "execution_count": 298,
      "outputs": [
        {
          "output_type": "stream",
          "text": [
            "train_images shape: (60000, 28, 28)\n",
            "60000 train samples\n",
            "10000 test samples\n"
          ],
          "name": "stdout"
        }
      ]
    },
    {
      "cell_type": "code",
      "metadata": {
        "id": "OEKjU5W2fnZh",
        "colab_type": "code",
        "colab": {}
      },
      "source": [
        "#class_names = ['plane','car','bird','cat','deer','dog','frog','horse','ship','truck']\n",
        "class_names = ['T-shirt/top', 'Trouser', 'Pullover', 'Dress', 'Coat','Sandal', 'Shirt', 'Sneaker', 'Bag', 'Ankle boot']\n"
      ],
      "execution_count": 0,
      "outputs": []
    },
    {
      "cell_type": "code",
      "metadata": {
        "id": "JX71c_gtel2k",
        "colab_type": "code",
        "outputId": "f346b3f3-48f3-47e9-8d14-de77125d4025",
        "colab": {
          "base_uri": "https://localhost:8080/",
          "height": 264
        }
      },
      "source": [
        "plt.imshow(train_images[1])\n",
        "plt.title(class_names[train_labels[1]])\n",
        "plt.axis('off')\n",
        "plt.show()"
      ],
      "execution_count": 300,
      "outputs": [
        {
          "output_type": "display_data",
          "data": {
            "image/png": "[encoded data removed]",
            "text/plain": [
              "<Figure size 432x288 with 1 Axes>"
            ]
          },
          "metadata": {
            "tags": []
          }
        }
      ]
    },
    {
      "cell_type": "markdown",
      "metadata": {
        "id": "iven3TBvxybr",
        "colab_type": "text"
      },
      "source": [
        "## Transform\n",
        "Convert to grayscale, normalize & standarize"
      ]
    },
    {
      "cell_type": "code",
      "metadata": {
        "id": "ZWsLHWocfF5B",
        "colab_type": "code",
        "outputId": "917d32a2-7468-4470-ad93-2c14f0ad631d",
        "colab": {
          "base_uri": "https://localhost:8080/",
          "height": 34
        }
      },
      "source": [
        "\n",
        "train_images = (train_images-np.mean(train_images)) / np.std(train_images)\n",
        "train_images = train_images / 255\n",
        "\n",
        "#train_images = tf.squeeze(tf.image.rgb_to_grayscale(train_images))\n",
        "\n",
        "#test_images = (test_images-np.mean(test_images)) / np.std(test_images)\n",
        "#test_images = tf.squeeze(tf.image.rgb_to_grayscale(test_images / 255))\n",
        "test_images = test_images /255\n",
        "train_images.shape, test_images.shape"
      ],
      "execution_count": 301,
      "outputs": [
        {
          "output_type": "execute_result",
          "data": {
            "text/plain": [
              "((60000, 28, 28), (10000, 28, 28))"
            ]
          },
          "metadata": {
            "tags": []
          },
          "execution_count": 301
        }
      ]
    },
    {
      "cell_type": "code",
      "metadata": {
        "id": "fb8TsFEoqBiU",
        "colab_type": "code",
        "outputId": "33d95b4a-c530-45ae-8af1-a9daf8532f49",
        "colab": {
          "base_uri": "https://localhost:8080/",
          "height": 281
        }
      },
      "source": [
        "plt.imshow(train_images[0], cmap=plt.cm.binary)\n",
        "plt.title(class_names[9])\n",
        "plt.show()"
      ],
      "execution_count": 302,
      "outputs": [
        {
          "output_type": "display_data",
          "data": {
            "image/png": "[encoded data removed]",
            "text/plain": [
              "<Figure size 432x288 with 1 Axes>"
            ]
          },
          "metadata": {
            "tags": []
          }
        }
      ]
    },
    {
      "cell_type": "markdown",
      "metadata": {
        "id": "y1LaJ8FQx6UR",
        "colab_type": "text"
      },
      "source": [
        "## Explore final dataset"
      ]
    },
    {
      "cell_type": "code",
      "metadata": {
        "id": "6mmCBoh6fGsf",
        "colab_type": "code",
        "outputId": "bc078a43-b976-46ec-bab7-cad47d73d951",
        "colab": {
          "base_uri": "https://localhost:8080/",
          "height": 364
        }
      },
      "source": [
        "plt.figure(figsize=(10,10))\n",
        "for i in range(15):\n",
        "    plt.subplot(5,5,i+1)\n",
        "    plt.xticks([])\n",
        "    plt.yticks([])\n",
        "    plt.grid(False)\n",
        "    plt.imshow(train_images[i], cmap=plt.cm.binary)\n",
        "    plt.xlabel(class_names[train_labels[i]], color='w')\n",
        "plt.show()"
      ],
      "execution_count": 303,
      "outputs": [
        {
          "output_type": "display_data",
          "data": {
            "image/png": "[encoded data removed]",
            "text/plain": [
              "<Figure size 720x720 with 15 Axes>"
            ]
          },
          "metadata": {
            "tags": []
          }
        }
      ]
    },
    {
      "cell_type": "markdown",
      "metadata": {
        "id": "plhAGACudszJ",
        "colab_type": "text"
      },
      "source": [
        "# Build the model"
      ]
    },
    {
      "cell_type": "code",
      "metadata": {
        "id": "mKUNTTEIhmZO",
        "colab_type": "code",
        "colab": {}
      },
      "source": [
        "model = Sequential([\n",
        "    Flatten(input_shape=(28, 28)),\n",
        "    Dense(128, activation='relu'),\n",
        "    Dense(10, activation='softmax')\n",
        "])"
      ],
      "execution_count": 0,
      "outputs": []
    },
    {
      "cell_type": "code",
      "metadata": {
        "id": "BSJra91-hqng",
        "colab_type": "code",
        "colab": {}
      },
      "source": [
        "model.compile(optimizer='nadam',\n",
        "              loss='sparse_categorical_crossentropy',\n",
        "              metrics=['accuracy'])"
      ],
      "execution_count": 0,
      "outputs": []
    },
    {
      "cell_type": "code",
      "metadata": {
        "id": "jlG5YmYFjAhb",
        "colab_type": "code",
        "outputId": "2eab81fc-a2cf-4bb0-c931-155b510a07eb",
        "colab": {
          "base_uri": "https://localhost:8080/",
          "height": 255
        }
      },
      "source": [
        "model.summary()"
      ],
      "execution_count": 314,
      "outputs": [
        {
          "output_type": "stream",
          "text": [
            "Model: \"sequential_14\"\n",
            "_________________________________________________________________\n",
            "Layer (type)                 Output Shape              Param #   \n",
            "=================================================================\n",
            "flatten_14 (Flatten)         (None, 784)               0         \n",
            "_________________________________________________________________\n",
            "dense_37 (Dense)             (None, 128)               100480    \n",
            "_________________________________________________________________\n",
            "dense_38 (Dense)             (None, 10)                1290      \n",
            "=================================================================\n",
            "Total params: 101,770\n",
            "Trainable params: 101,770\n",
            "Non-trainable params: 0\n",
            "_________________________________________________________________\n"
          ],
          "name": "stdout"
        }
      ]
    },
    {
      "cell_type": "code",
      "metadata": {
        "colab_type": "code",
        "outputId": "46dbe98b-51e3-459f-9a4f-b4e2732bd0d5",
        "id": "84Ud0hbqqfkf",
        "colab": {
          "base_uri": "https://localhost:8080/",
          "height": 374
        }
      },
      "source": [
        "history = model.fit(train_images, \n",
        "          train_labels, \n",
        "          validation_split=0.3,\n",
        "          epochs=10\n",
        "          )"
      ],
      "execution_count": 315,
      "outputs": [
        {
          "output_type": "stream",
          "text": [
            "Train on 42000 samples, validate on 18000 samples\n",
            "Epoch 1/10\n",
            "42000/42000 [==============================] - 6s 143us/sample - loss: 0.9380 - accuracy: 0.7043 - val_loss: 0.6320 - val_accuracy: 0.7732\n",
            "Epoch 2/10\n",
            "42000/42000 [==============================] - 6s 132us/sample - loss: 0.5778 - accuracy: 0.7943 - val_loss: 0.5344 - val_accuracy: 0.8091\n",
            "Epoch 3/10\n",
            "42000/42000 [==============================] - 6s 132us/sample - loss: 0.5108 - accuracy: 0.8200 - val_loss: 0.4963 - val_accuracy: 0.8212\n",
            "Epoch 4/10\n",
            "42000/42000 [==============================] - 5s 130us/sample - loss: 0.4762 - accuracy: 0.8332 - val_loss: 0.4711 - val_accuracy: 0.8322\n",
            "Epoch 5/10\n",
            "42000/42000 [==============================] - 6s 132us/sample - loss: 0.4537 - accuracy: 0.8412 - val_loss: 0.4502 - val_accuracy: 0.8408\n",
            "Epoch 6/10\n",
            "42000/42000 [==============================] - 6s 131us/sample - loss: 0.4364 - accuracy: 0.8468 - val_loss: 0.4377 - val_accuracy: 0.8442\n",
            "Epoch 7/10\n",
            "42000/42000 [==============================] - 6s 136us/sample - loss: 0.4234 - accuracy: 0.8512 - val_loss: 0.4298 - val_accuracy: 0.8474\n",
            "Epoch 8/10\n",
            "42000/42000 [==============================] - 6s 150us/sample - loss: 0.4126 - accuracy: 0.8560 - val_loss: 0.4202 - val_accuracy: 0.8517\n",
            "Epoch 9/10\n",
            "42000/42000 [==============================] - 6s 138us/sample - loss: 0.4029 - accuracy: 0.8581 - val_loss: 0.4127 - val_accuracy: 0.8547\n",
            "Epoch 10/10\n",
            "42000/42000 [==============================] - 5s 128us/sample - loss: 0.3945 - accuracy: 0.8616 - val_loss: 0.4069 - val_accuracy: 0.8566\n"
          ],
          "name": "stdout"
        }
      ]
    },
    {
      "cell_type": "markdown",
      "metadata": {
        "id": "IJ5zvQjgkF4C",
        "colab_type": "text"
      },
      "source": [
        "# Evaluate"
      ]
    },
    {
      "cell_type": "code",
      "metadata": {
        "id": "7GeqyQTvsjmD",
        "colab_type": "code",
        "outputId": "6b27413e-f60a-45c0-a791-ed875411fe26",
        "colab": {
          "base_uri": "https://localhost:8080/",
          "height": 621
        }
      },
      "source": [
        "acc = history.history['accuracy']\n",
        "val_acc = history.history['val_accuracy']\n",
        "\n",
        "loss = history.history['loss']\n",
        "val_loss = history.history['val_loss']\n",
        "\n",
        "plt.figure(figsize=(10, 10))\n",
        "plt.subplot(2, 1, 1)\n",
        "plt.plot(acc, label='Training Accuracy')\n",
        "plt.plot(val_acc, label='Validation Accuracy')\n",
        "plt.legend(loc='lower right')\n",
        "plt.setp(plt.legend().get_texts(), color='black')\n",
        "plt.ylabel('Accuracy')\n",
        "plt.ylim([min(plt.ylim()),1])\n",
        "plt.title('Training and Validation Accuracy')\n",
        "\n",
        "plt.subplot(2, 1, 2)\n",
        "plt.plot(loss, label='Training Loss')\n",
        "plt.plot(val_loss, label='Validation Loss')\n",
        "plt.legend(loc='upper right')\n",
        "plt.setp(plt.legend().get_texts(), color='black')\n",
        "plt.ylabel('Cross Entropy')\n",
        "plt.ylim([0,3])\n",
        "plt.title('Training and Validation Loss')\n",
        "plt.xlabel('epoch')\n",
        "plt.show()\n"
      ],
      "execution_count": 322,
      "outputs": [
        {
          "output_type": "display_data",
          "data": {
            "image/png": "[encoded data removed]",
            "text/plain": [
              "<Figure size 720x720 with 2 Axes>"
            ]
          },
          "metadata": {
            "tags": []
          }
        }
      ]
    },
    {
      "cell_type": "code",
      "metadata": {
        "id": "D1V31yORhsBr",
        "colab_type": "code",
        "outputId": "764b08ed-9e7a-488f-dfd6-7902f75dc3c3",
        "colab": {
          "base_uri": "https://localhost:8080/",
          "height": 51
        }
      },
      "source": [
        "test_loss, test_acc = model.evaluate(test_images,  test_labels, verbose=3)\n",
        "\n",
        "print('Loss:', test_loss)\n",
        "print('Accuracy:', test_acc)"
      ],
      "execution_count": 317,
      "outputs": [
        {
          "output_type": "stream",
          "text": [
            "Loss: 24.51880190887451\n",
            "Accuracy: 0.7355\n"
          ],
          "name": "stdout"
        }
      ]
    },
    {
      "cell_type": "markdown",
      "metadata": {
        "id": "eerMeVUskHw3",
        "colab_type": "text"
      },
      "source": [
        "# Make predictions"
      ]
    },
    {
      "cell_type": "code",
      "metadata": {
        "id": "Xi5yFJ-fi1-1",
        "colab_type": "code",
        "outputId": "9f4b7eaf-039a-4b0e-c290-405ec2fab79e",
        "colab": {
          "base_uri": "https://localhost:8080/",
          "height": 315
        }
      },
      "source": [
        "img_index = np.random.randint(test_images.shape[0])\n",
        "img = test_images[img_index]\n",
        "\n",
        "predictions = model.predict(tf.expand_dims(img, 0))\n",
        "\n",
        "plt.imshow(img, cmap=plt.cm.binary)\n",
        "plt.title(class_names[test_labels[img_index]])\n",
        "plt.show()\n",
        "print('\\nPredicted class is:', class_names[np.argmax(predictions[0])])"
      ],
      "execution_count": 318,
      "outputs": [
        {
          "output_type": "display_data",
          "data": {
            "image/png": "[encoded data removed]",
            "text/plain": [
              "<Figure size 432x288 with 1 Axes>"
            ]
          },
          "metadata": {
            "tags": []
          }
        },
        {
          "output_type": "stream",
          "text": [
            "\n",
            "Predicted class is: Coat\n"
          ],
          "name": "stdout"
        }
      ]
    },
    {
      "cell_type": "code",
      "metadata": {
        "id": "pl7ukWvwmB8_",
        "colab_type": "code",
        "outputId": "63d50552-162c-4311-aedc-84810fb8670d",
        "colab": {
          "base_uri": "https://localhost:8080/",
          "height": 299
        }
      },
      "source": [
        "test_image = tf.keras.utils.get_file('car6.jpg','https://tottocr.vteximg.com.br/arquivos/ids/179907-1000-1000/Bolso-Porta-Tablet-para-Mujer-Tossa-M-morado-damson_1.jpg?v=636907133688300000')\n",
        "test_image = Image.open(test_image).resize((28,28)).convert('L')\n",
        "test_image = np.array(test_image)/255.0\n",
        "predictions = model.predict(tf.expand_dims(test_image, 0))\n",
        "\n",
        "plt.imshow(test_image, cmap=plt.cm.binary)\n",
        "print('\\nPredicted class is:', class_names[np.argmax(predictions[0])])"
      ],
      "execution_count": 319,
      "outputs": [
        {
          "output_type": "stream",
          "text": [
            "\n",
            "Predicted class is: Bag\n"
          ],
          "name": "stdout"
        },
        {
          "output_type": "display_data",
          "data": {
            "image/png": "[encoded data removed]",
            "text/plain": [
              "<Figure size 432x288 with 1 Axes>"
            ]
          },
          "metadata": {
            "tags": []
          }
        }
      ]
    }
  ]
}